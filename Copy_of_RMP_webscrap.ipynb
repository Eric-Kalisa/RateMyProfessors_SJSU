{
  "nbformat": 4,
  "nbformat_minor": 0,
  "metadata": {
    "colab": {
      "provenance": []
    },
    "kernelspec": {
      "name": "python3",
      "display_name": "Python 3"
    },
    "language_info": {
      "name": "python"
    }
  },
  "cells": [
    {
      "cell_type": "code",
      "source": [
        "!pip install selenium"
      ],
      "metadata": {
        "id": "znWNxQLFClsT",
        "colab": {
          "base_uri": "https://localhost:8080/"
        },
        "outputId": "abd12740-2766-4775-ceae-a739c6402ca3"
      },
      "execution_count": null,
      "outputs": [
        {
          "output_type": "stream",
          "name": "stdout",
          "text": [
            "Looking in indexes: https://pypi.org/simple, https://us-python.pkg.dev/colab-wheels/public/simple/\n",
            "Requirement already satisfied: selenium in /usr/local/lib/python3.8/dist-packages (4.7.2)\n",
            "Requirement already satisfied: certifi>=2021.10.8 in /usr/local/lib/python3.8/dist-packages (from selenium) (2022.12.7)\n",
            "Requirement already satisfied: trio-websocket~=0.9 in /usr/local/lib/python3.8/dist-packages (from selenium) (0.9.2)\n",
            "Requirement already satisfied: urllib3[socks]~=1.26 in /usr/local/lib/python3.8/dist-packages (from selenium) (1.26.13)\n",
            "Requirement already satisfied: trio~=0.17 in /usr/local/lib/python3.8/dist-packages (from selenium) (0.22.0)\n",
            "Requirement already satisfied: idna in /usr/local/lib/python3.8/dist-packages (from trio~=0.17->selenium) (2.10)\n",
            "Requirement already satisfied: attrs>=19.2.0 in /usr/local/lib/python3.8/dist-packages (from trio~=0.17->selenium) (22.2.0)\n",
            "Requirement already satisfied: outcome in /usr/local/lib/python3.8/dist-packages (from trio~=0.17->selenium) (1.2.0)\n",
            "Requirement already satisfied: sniffio in /usr/local/lib/python3.8/dist-packages (from trio~=0.17->selenium) (1.3.0)\n",
            "Requirement already satisfied: sortedcontainers in /usr/local/lib/python3.8/dist-packages (from trio~=0.17->selenium) (2.4.0)\n",
            "Requirement already satisfied: async-generator>=1.9 in /usr/local/lib/python3.8/dist-packages (from trio~=0.17->selenium) (1.10)\n",
            "Requirement already satisfied: exceptiongroup>=1.0.0rc9 in /usr/local/lib/python3.8/dist-packages (from trio~=0.17->selenium) (1.1.0)\n",
            "Requirement already satisfied: wsproto>=0.14 in /usr/local/lib/python3.8/dist-packages (from trio-websocket~=0.9->selenium) (1.2.0)\n",
            "Requirement already satisfied: PySocks!=1.5.7,<2.0,>=1.5.6 in /usr/local/lib/python3.8/dist-packages (from urllib3[socks]~=1.26->selenium) (1.7.1)\n",
            "Requirement already satisfied: h11<1,>=0.9.0 in /usr/local/lib/python3.8/dist-packages (from wsproto>=0.14->trio-websocket~=0.9->selenium) (0.14.0)\n"
          ]
        }
      ]
    },
    {
      "cell_type": "code",
      "source": [],
      "metadata": {
        "id": "avChrsEsbVKi"
      },
      "execution_count": null,
      "outputs": []
    },
    {
      "cell_type": "code",
      "execution_count": null,
      "metadata": {
        "id": "cVsqVQIMm7rW"
      },
      "outputs": [],
      "source": [
        "import selenium\n",
        "from selenium import webdriver\n",
        "import time\n",
        "from selenium.webdriver.chrome.options import Options\n",
        "from selenium.common.exceptions import NoSuchElementException\n",
        "from selenium.webdriver.common.by import By\n",
        "import pandas as pd"
      ]
    },
    {
      "cell_type": "code",
      "source": [
        "!apt-get update"
      ],
      "metadata": {
        "id": "615SXSjR-P3z",
        "colab": {
          "base_uri": "https://localhost:8080/"
        },
        "outputId": "065bd980-8155-4a98-872d-73a91dc43284"
      },
      "execution_count": null,
      "outputs": [
        {
          "output_type": "stream",
          "name": "stdout",
          "text": [
            "Hit:1 https://cloud.r-project.org/bin/linux/ubuntu bionic-cran40/ InRelease\n",
            "Ign:2 https://developer.download.nvidia.com/compute/machine-learning/repos/ubuntu1804/x86_64  InRelease\n",
            "Hit:3 https://developer.download.nvidia.com/compute/cuda/repos/ubuntu1804/x86_64  InRelease\n",
            "Hit:4 http://archive.ubuntu.com/ubuntu bionic InRelease\n",
            "Hit:5 https://developer.download.nvidia.com/compute/machine-learning/repos/ubuntu1804/x86_64  Release\n",
            "Get:6 http://archive.ubuntu.com/ubuntu bionic-updates InRelease [88.7 kB]\n",
            "Get:7 http://security.ubuntu.com/ubuntu bionic-security InRelease [88.7 kB]\n",
            "Hit:8 http://ppa.launchpad.net/c2d4u.team/c2d4u4.0+/ubuntu bionic InRelease\n",
            "Get:9 http://archive.ubuntu.com/ubuntu bionic-backports InRelease [83.3 kB]\n",
            "Hit:10 http://ppa.launchpad.net/cran/libgit2/ubuntu bionic InRelease\n",
            "Hit:11 http://ppa.launchpad.net/deadsnakes/ppa/ubuntu bionic InRelease\n",
            "Hit:12 http://ppa.launchpad.net/graphics-drivers/ppa/ubuntu bionic InRelease\n",
            "Fetched 261 kB in 5s (56.8 kB/s)\n",
            "Reading package lists... Done\n"
          ]
        }
      ]
    },
    {
      "cell_type": "code",
      "source": [
        "!apt-get install -y chromium-browser"
      ],
      "metadata": {
        "id": "D8Mil9Ee-g_r"
      },
      "execution_count": null,
      "outputs": []
    },
    {
      "cell_type": "code",
      "source": [
        "!apt install chromium.chromedriver"
      ],
      "metadata": {
        "id": "TdlE0bMz-vpx"
      },
      "execution_count": null,
      "outputs": []
    },
    {
      "cell_type": "code",
      "source": [
        "!ls /usr/lib/chromium-browser/chromedriver"
      ],
      "metadata": {
        "colab": {
          "base_uri": "https://localhost:8080/"
        },
        "id": "51yAm9IG--Uy",
        "outputId": "70216436-eb40-4c79-a8ce-fac3d9d3b343"
      },
      "execution_count": null,
      "outputs": [
        {
          "output_type": "stream",
          "name": "stdout",
          "text": [
            "/usr/lib/chromium-browser/chromedriver\n"
          ]
        }
      ]
    },
    {
      "cell_type": "code",
      "source": [
        "options = webdriver.ChromeOptions()\n",
        "options.add_argument(\"--headless\")\n",
        "options.add_argument('--disable-gpu')\n",
        "options.add_argument(\"--no-sandbox\")\n",
        "options.add_argument(\"--disable-dev-shm-usage\")\n",
        "\n",
        "driver=webdriver.Chrome(executable_path='/usr/lib/chromium-browser/chromedriver', options=options)"
      ],
      "metadata": {
        "colab": {
          "base_uri": "https://localhost:8080/"
        },
        "id": "t2Qn2F8D_jZb",
        "outputId": "70bbc5c1-1870-424b-96e5-11b8c4ec9895"
      },
      "execution_count": null,
      "outputs": [
        {
          "output_type": "stream",
          "name": "stderr",
          "text": [
            "<ipython-input-100-89b56b7ebcb9>:7: DeprecationWarning: executable_path has been deprecated, please pass in a Service object\n",
            "  driver=webdriver.Chrome(executable_path='/usr/lib/chromium-browser/chromedriver', options=options)\n"
          ]
        }
      ]
    },
    {
      "cell_type": "code",
      "source": [
        "driver.get(\"https://www.ratemyprofessors.com/search/teachers?query=*&sid=881\")"
      ],
      "metadata": {
        "id": "LvdCHYMQDDnV"
      },
      "execution_count": null,
      "outputs": []
    },
    {
      "cell_type": "code",
      "source": [
        "adCloser = driver.find_element('xpath', \"/html/body/div[5]/div/div/button\")\n",
        "adCloser.click()\n",
        "\n",
        "count = 0\n",
        "for i in range(552):\n",
        "    time.sleep(.5)\n",
        "    try:\n",
        "        loadMoreBtn = driver.find_element('xpath', '//*[@id=\"root\"]/div/div/div[4]/div[1]/div[1]/div[4]/button')\n",
        "        loadMoreBtn.click()\n",
        "        count += 1\n",
        "        print(count)\n",
        "    except NoSuchElementException:\n",
        "        break\n",
        "doc = driver.page_source"
      ],
      "metadata": {
        "id": "QXro3bciIVLF"
      },
      "execution_count": null,
      "outputs": []
    },
    {
      "cell_type": "markdown",
      "source": [
        "box = TeacherCard__InfoRatingWrapper-syjs0d-3 kcbPEB\n",
        "\n",
        "name= CardName__StyledCardName-sc-1gyrgim-0 cJdVEK\n",
        "\n",
        "quality rating= class=\"CardNumRating__CardNumRatingNumber-sc-17t4b9u-2 icXUyq\"\n",
        "\n",
        "number of ratings= CardNumRating__CardNumRatingCount-sc-17t4b9u-3 jMRwbg\n",
        "\n",
        "level= CardFeedback__CardFeedbackItem-lq6nix-1 fyKbws\n",
        "\n",
        "take again= CardFeedback__CardFeedbackItem-lq6nix-1 fyKbws\n"
      ],
      "metadata": {
        "id": "hQpwAxbzDdDf"
      }
    },
    {
      "cell_type": "code",
      "source": [
        "rows = driver.find_elements(By.CLASS_NAME, 'dLJIlx')"
      ],
      "metadata": {
        "id": "wCR8Iv2gNwST"
      },
      "execution_count": null,
      "outputs": []
    },
    {
      "cell_type": "code",
      "source": [
        "instructor_ratings= []\n",
        "for row in rows:\n",
        "    data={}\n",
        "    data['Professor Name'] = row.find_element(By.CLASS_NAME, 'cJdVEK').text\n",
        "    data['Subject'] = row.find_element(By.CLASS_NAME, 'haUIRO').text\n",
        "    data['Quality Rating'] = row.find_element(By.CLASS_NAME, 'CardNumRating__CardNumRatingNumber-sc-17t4b9u-2').text\n",
        "    wow = row.find_elements(By.CLASS_NAME, 'hroXqf')\n",
        "    data['Difficulty'] = wow[0].text\n",
        "    data['Would Take Again?'] = wow[1].text\n",
        "    data['Number of Rating'] = row.find_element(By.CLASS_NAME, 'jMRwbg').text\n",
        "    instructor_ratings.append(data)\n",
        "\n",
        "SJ_instructors=pd.DataFrame(instructor_ratings)\n"
      ],
      "metadata": {
        "id": "kCvaXSaAN0fK"
      },
      "execution_count": null,
      "outputs": []
    },
    {
      "cell_type": "code",
      "source": [
        "print(SJ_instructors)"
      ],
      "metadata": {
        "colab": {
          "base_uri": "https://localhost:8080/"
        },
        "id": "j15Kcq28fRPX",
        "outputId": "89d0a6cc-7638-46de-d01d-a83226c4ea44"
      },
      "execution_count": null,
      "outputs": [
        {
          "output_type": "stream",
          "name": "stdout",
          "text": [
            "      Professor Name           Subject Quality Rating Difficulty  \\\n",
            "0      Renee Fecteau  Computer Science            3.7        N/A   \n",
            "1      Peter Hadreas        Philosophy            4.3       100%   \n",
            "2      Marilyn Wyman           History            3.9        N/A   \n",
            "3       Eugene Ionel       Mathematics            2.8        N/A   \n",
            "4     Brian Peterson       Mathematics            4.1        N/A   \n",
            "...              ...               ...            ...        ...   \n",
            "3298     Tom Shannon               Law            3.4        N/A   \n",
            "3299       Gary Wood           English            3.4        N/A   \n",
            "3300  Richard Gamble           History            4.6        N/A   \n",
            "3301  Gavin Buchanan         Fine Arts            4.8        N/A   \n",
            "3302  Robert Jeffers     Communication            4.1        67%   \n",
            "\n",
            "     Would Take Again? Number of Rating  \n",
            "0                  3.2       48 ratings  \n",
            "1                    2       41 ratings  \n",
            "2                    3       58 ratings  \n",
            "3                  3.8       70 ratings  \n",
            "4                  2.2       75 ratings  \n",
            "...                ...              ...  \n",
            "3298               3.2        5 ratings  \n",
            "3299               2.3       56 ratings  \n",
            "3300               3.3        8 ratings  \n",
            "3301               2.8       17 ratings  \n",
            "3302               2.2       38 ratings  \n",
            "\n",
            "[3303 rows x 6 columns]\n"
          ]
        }
      ]
    },
    {
      "cell_type": "code",
      "source": [
        "SJ_instructors.to_csv('SJ_instructors.csv')"
      ],
      "metadata": {
        "id": "2aExr-BMY6yU"
      },
      "execution_count": null,
      "outputs": []
    },
    {
      "cell_type": "code",
      "source": [
        "print(SJ_instructors)"
      ],
      "metadata": {
        "colab": {
          "base_uri": "https://localhost:8080/",
          "height": 165
        },
        "id": "YOQ3sSQdbW_m",
        "outputId": "2c6cc25e-f386-4d52-c2bd-76704ac87f11"
      },
      "execution_count": null,
      "outputs": [
        {
          "output_type": "error",
          "ename": "NameError",
          "evalue": "ignored",
          "traceback": [
            "\u001b[0;31m---------------------------------------------------------------------------\u001b[0m",
            "\u001b[0;31mNameError\u001b[0m                                 Traceback (most recent call last)",
            "\u001b[0;32m<ipython-input-1-706d2ed7673f>\u001b[0m in \u001b[0;36m<module>\u001b[0;34m\u001b[0m\n\u001b[0;32m----> 1\u001b[0;31m \u001b[0mprint\u001b[0m\u001b[0;34m(\u001b[0m\u001b[0mSJ_instructors\u001b[0m\u001b[0;34m)\u001b[0m\u001b[0;34m\u001b[0m\u001b[0;34m\u001b[0m\u001b[0m\n\u001b[0m",
            "\u001b[0;31mNameError\u001b[0m: name 'SJ_instructors' is not defined"
          ]
        }
      ]
    },
    {
      "cell_type": "code",
      "source": [
        "from google.colab import drive\n",
        "drive.mount('/content/drive')"
      ],
      "metadata": {
        "id": "X7ufX-J04HVj"
      },
      "execution_count": null,
      "outputs": []
    }
  ]
}